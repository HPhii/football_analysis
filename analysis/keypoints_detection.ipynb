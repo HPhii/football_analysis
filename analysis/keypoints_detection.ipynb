{
 "cells": [
  {
   "cell_type": "code",
   "execution_count": 32,
   "metadata": {},
   "outputs": [
    {
     "ename": "ModuleNotFoundError",
     "evalue": "No module named 'field_keypoints_detection'",
     "output_type": "error",
     "traceback": [
      "\u001b[1;31m---------------------------------------------------------------------------\u001b[0m",
      "\u001b[1;31mModuleNotFoundError\u001b[0m                       Traceback (most recent call last)",
      "Cell \u001b[1;32mIn[32], line 4\u001b[0m\n\u001b[0;32m      2\u001b[0m \u001b[38;5;28;01mimport\u001b[39;00m \u001b[38;5;21;01mcv2\u001b[39;00m\n\u001b[0;32m      3\u001b[0m \u001b[38;5;28;01mimport\u001b[39;00m \u001b[38;5;21;01mnumpy\u001b[39;00m \u001b[38;5;28;01mas\u001b[39;00m \u001b[38;5;21;01mnp\u001b[39;00m\n\u001b[1;32m----> 4\u001b[0m \u001b[38;5;28;01mfrom\u001b[39;00m \u001b[38;5;21;01mfield_keypoints_detection\u001b[39;00m \u001b[38;5;28;01mimport\u001b[39;00m load_tfrecords\n",
      "\u001b[1;31mModuleNotFoundError\u001b[0m: No module named 'field_keypoints_detection'"
     ]
    }
   ],
   "source": [
    "import matplotlib.pyplot as plt\n",
    "import cv2\n",
    "import numpy as np\n",
    "import import_ipynb\n",
    "from field_keypoints_detection import load_tfrecords"
   ]
  },
  {
   "cell_type": "code",
   "execution_count": null,
   "metadata": {},
   "outputs": [],
   "source": []
  },
  {
   "cell_type": "code",
   "execution_count": null,
   "metadata": {},
   "outputs": [],
   "source": [
    "train_dataset = load_tfrecords(\"data/train.tfrecord\") # TODO: change to a real file\n",
    "val_dataset = load_tfrecords(\"data/val.tfrecord\") # TODO: change to a real file\n",
    "val_dataset = load_tfrecords(\"data/test.tfrecord\") # TODO: change to a real file"
   ]
  },
  {
   "cell_type": "markdown",
   "metadata": {},
   "source": [
    "# Plotting Data Example"
   ]
  },
  {
   "cell_type": "code",
   "execution_count": 19,
   "metadata": {},
   "outputs": [],
   "source": [
    "def plot_examples(parsed_and_decoded_dataset, num_examples=1):\n",
    "\n",
    "  for image, keypoints in parsed_and_decoded_dataset.take(num_examples):\n",
    "    plt.figure(figsize=(12,7))\n",
    "    plt.imshow(image.numpy())\n",
    "    plt.axis(False)\n",
    "\n",
    "\n",
    "    # Reshape the keypoints array to have shape (num_keypoints, 3)\n",
    "    keypoints = keypoints.numpy()\n",
    "    keypoints = keypoints.reshape(-1, 3)\n",
    "\n",
    "    for i, keypoint in enumerate(keypoints):\n",
    "      x, y, visibility = keypoint\n",
    "      if visibility == 2:  # Only plot visible keypoints\n",
    "        plt.scatter(x, y, s=50, c='red', marker='o')\n",
    "        plt.text(x, y, str(i), fontsize=12, color='blue', ha='right', va='bottom')\n",
    "\n",
    "\n",
    "    plt.show()"
   ]
  },
  {
   "cell_type": "code",
   "execution_count": null,
   "metadata": {},
   "outputs": [],
   "source": [
    "plot_examples(train_dataset)"
   ]
  },
  {
   "cell_type": "markdown",
   "metadata": {},
   "source": [
    "# Calculating the Visibility of Each Keypoint"
   ]
  },
  {
   "cell_type": "code",
   "execution_count": 20,
   "metadata": {},
   "outputs": [],
   "source": [
    "def calculate_visibility(dataset):\n",
    "    keypoint_visibility_count = [0] * 32  # Assuming 32 keypoints\n",
    "    total_examples = 0\n",
    "\n",
    "    for image, keypoints in dataset:\n",
    "        keypoints = keypoints.numpy().reshape(-1, 3)  # Reshape to (num_keypoints, 3)\n",
    "        for i, keypoint in enumerate(keypoints):\n",
    "            if keypoint[2] == 2:  # Visibility indicator\n",
    "                keypoint_visibility_count[i] += 1\n",
    "        total_examples += 1\n",
    "\n",
    "    visibility_percentage = [(count / total_examples) * 100 for count in keypoint_visibility_count]\n",
    "    return visibility_percentage"
   ]
  },
  {
   "cell_type": "code",
   "execution_count": 22,
   "metadata": {},
   "outputs": [
    {
     "ename": "NameError",
     "evalue": "name 'train_dataset' is not defined",
     "output_type": "error",
     "traceback": [
      "\u001b[1;31m---------------------------------------------------------------------------\u001b[0m",
      "\u001b[1;31mNameError\u001b[0m                                 Traceback (most recent call last)",
      "Cell \u001b[1;32mIn[22], line 1\u001b[0m\n\u001b[1;32m----> 1\u001b[0m all_dataset \u001b[38;5;241m=\u001b[39m \u001b[43mtrain_dataset\u001b[49m\u001b[38;5;241m.\u001b[39mconcatenate(val_dataset)\u001b[38;5;241m.\u001b[39mconcatenate(test_dataset)\n\u001b[0;32m      2\u001b[0m visibility_percentage \u001b[38;5;241m=\u001b[39m calculate_visibility(all_dataset)\n\u001b[0;32m      4\u001b[0m top_down_keypoints \u001b[38;5;241m=\u001b[39m np\u001b[38;5;241m.\u001b[39marray([\n\u001b[0;32m      5\u001b[0m   [\u001b[38;5;241m98\u001b[39m, \u001b[38;5;241m19\u001b[39m], [\u001b[38;5;241m98\u001b[39m, \u001b[38;5;241m268\u001b[39m], [\u001b[38;5;241m98\u001b[39m, \u001b[38;5;241m460\u001b[39m], [\u001b[38;5;241m98\u001b[39m, \u001b[38;5;241m773\u001b[39m], [\u001b[38;5;241m98\u001b[39m, \u001b[38;5;241m964\u001b[39m], [\u001b[38;5;241m98\u001b[39m, \u001b[38;5;241m1199\u001b[39m], \u001b[38;5;66;03m# 0-5\u001b[39;00m\n\u001b[0;32m      6\u001b[0m   [\u001b[38;5;241m188\u001b[39m, \u001b[38;5;241m460\u001b[39m], [\u001b[38;5;241m188\u001b[39m, \u001b[38;5;241m773\u001b[39m], \u001b[38;5;66;03m# 6-7\u001b[39;00m\n\u001b[1;32m   (...)\u001b[0m\n\u001b[0;32m     14\u001b[0m   [\u001b[38;5;241m861\u001b[39m, \u001b[38;5;241m616\u001b[39m], [\u001b[38;5;241m1174\u001b[39m, \u001b[38;5;241m616\u001b[39m] \u001b[38;5;66;03m# 30-31\u001b[39;00m\n\u001b[0;32m     15\u001b[0m ])\n",
      "\u001b[1;31mNameError\u001b[0m: name 'train_dataset' is not defined"
     ]
    }
   ],
   "source": [
    "all_dataset = train_dataset.concatenate(val_dataset).concatenate(test_dataset)\n",
    "visibility_percentage = calculate_visibility(all_dataset)\n",
    "\n",
    "top_down_keypoints = np.array([\n",
    "  [98, 19], [98, 268], [98, 460], [98, 773], [98, 964], [98, 1199], # 0-5\n",
    "  [188, 460], [188, 773], # 6-7\n",
    "  [292, 616], # 8\n",
    "  [380, 268], [380, 481], [380, 752], [380, 964], # 9-12\n",
    "  [1017, 19], [1017, 460], [1017, 773], [1017, 1199], # 13-16\n",
    "  [1641, 268], [1641, 481], [1641, 752], [1641, 964], # 17-20\n",
    "  [1733, 616], # 21\n",
    "  [1833, 453], [1833, 767], # 22-23\n",
    "  [1923, 19], [1923, 268], [1923, 460], [1923, 773], [1923, 964], [1923, 1199], # 24-29\n",
    "  [861, 616], [1174, 616] # 30-31\n",
    "])\n",
    "\n",
    "template = cv2.imread('2d_football_pitch.png')\n",
    "template = cv2.cvtColor(template, cv2.COLOR_BGR2RGB)\n",
    "\n",
    "plt.figure(figsize=(12,7))\n",
    "plt.title(\"Percentage of frames in which points are visible\")\n",
    "plt.axis(False)\n",
    "plt.imshow(template)\n",
    "\n",
    "for i, percentage in enumerate(visibility_percentage):\n",
    "  plt.scatter(top_down_keypoints[i][0], top_down_keypoints[i][1], s=50, c='red', marker='o')\n",
    "  plt.text(top_down_keypoints[i][0], top_down_keypoints[i][1], f'{round(percentage)}%', fontsize=10, color='blue', ha='right', va='bottom')\n",
    "\n",
    "plt.savefig('../output_videos/percentage_of_visible_frames_for_each_point.png')\n",
    "plt.show()"
   ]
  },
  {
   "cell_type": "code",
   "execution_count": null,
   "metadata": {},
   "outputs": [],
   "source": []
  }
 ],
 "metadata": {
  "kernelspec": {
   "display_name": "Python 3",
   "language": "python",
   "name": "python3"
  },
  "language_info": {
   "codemirror_mode": {
    "name": "ipython",
    "version": 3
   },
   "file_extension": ".py",
   "mimetype": "text/x-python",
   "name": "python",
   "nbconvert_exporter": "python",
   "pygments_lexer": "ipython3",
   "version": "3.11.9"
  }
 },
 "nbformat": 4,
 "nbformat_minor": 2
}
